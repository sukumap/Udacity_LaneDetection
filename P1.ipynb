{
 "cells": [
  {
   "cell_type": "markdown",
   "metadata": {
    "deletable": true,
    "editable": true
   },
   "source": [
    "# Self-Driving Car Engineer Nanodegree\n",
    "\n",
    "\n",
    "## Project: **Finding Lane Lines on the Road** \n",
    "***\n",
    "In this project, you will use the tools you learned about in the lesson to identify lane lines on the road.  You can develop your pipeline on a series of individual images, and later apply the result to a video stream (really just a series of images). Check out the video clip \"raw-lines-example.mp4\" (also contained in this repository) to see what the output should look like after using the helper functions below. \n",
    "\n",
    "Once you have a result that looks roughly like \"raw-lines-example.mp4\", you'll need to get creative and try to average and/or extrapolate the line segments you've detected to map out the full extent of the lane lines.  You can see an example of the result you're going for in the video \"P1_example.mp4\".  Ultimately, you would like to draw just one line for the left side of the lane, and one for the right.\n",
    "\n",
    "In addition to implementing code, there is a brief writeup to complete. The writeup should be completed in a separate file, which can be either a markdown file or a pdf document. There is a [write up template](https://github.com/udacity/CarND-LaneLines-P1/blob/master/writeup_template.md) that can be used to guide the writing process. Completing both the code in the Ipython notebook and the writeup template will cover all of the [rubric points](https://review.udacity.com/#!/rubrics/322/view) for this project.\n",
    "\n",
    "---\n",
    "Let's have a look at our first image called 'test_images/solidWhiteRight.jpg'.  Run the 2 cells below (hit Shift-Enter or the \"play\" button above) to display the image.\n",
    "\n",
    "**Note: If, at any point, you encounter frozen display windows or other confounding issues, you can always start again with a clean slate by going to the \"Kernel\" menu above and selecting \"Restart & Clear Output\".**\n",
    "\n",
    "---"
   ]
  },
  {
   "cell_type": "markdown",
   "metadata": {
    "deletable": true,
    "editable": true
   },
   "source": [
    "**The tools you have are color selection, region of interest selection, grayscaling, Gaussian smoothing, Canny Edge Detection and Hough Tranform line detection.  You  are also free to explore and try other techniques that were not presented in the lesson.  Your goal is piece together a pipeline to detect the line segments in the image, then average/extrapolate them and draw them onto the image for display (as below).  Once you have a working pipeline, try it out on the video stream below.**\n",
    "\n",
    "---\n",
    "\n",
    "<figure>\n",
    " <img src=\"line-segments-example.jpg\" width=\"380\" alt=\"Combined Image\" />\n",
    " <figcaption>\n",
    " <p></p> \n",
    " <p style=\"text-align: center;\"> Your output should look something like this (above) after detecting line segments using the helper functions below </p> \n",
    " </figcaption>\n",
    "</figure>\n",
    " <p></p> \n",
    "<figure>\n",
    " <img src=\"laneLines_thirdPass.jpg\" width=\"380\" alt=\"Combined Image\" />\n",
    " <figcaption>\n",
    " <p></p> \n",
    " <p style=\"text-align: center;\"> Your goal is to connect/average/extrapolate line segments to get output like this</p> \n",
    " </figcaption>\n",
    "</figure>"
   ]
  },
  {
   "cell_type": "markdown",
   "metadata": {
    "deletable": true,
    "editable": true
   },
   "source": [
    "**Run the cell below to import some packages.  If you get an `import error` for a package you've already installed, try changing your kernel (select the Kernel menu above --> Change Kernel).  Still have problems?  Try relaunching Jupyter Notebook from the terminal prompt.  Also, see [this forum post](https://carnd-forums.udacity.com/cq/viewquestion.action?spaceKey=CAR&id=29496372&questionTitle=finding-lanes---import-cv2-fails-even-though-python-in-the-terminal-window-has-no-problem-with-import-cv2) for more troubleshooting tips.**  "
   ]
  },
  {
   "cell_type": "markdown",
   "metadata": {
    "deletable": true,
    "editable": true
   },
   "source": [
    "## Import Packages"
   ]
  },
  {
   "cell_type": "code",
   "execution_count": 7,
   "metadata": {
    "collapsed": false,
    "deletable": true,
    "editable": true
   },
   "outputs": [],
   "source": [
    "#importing some useful packages\n",
    "import matplotlib.pyplot as plt\n",
    "import matplotlib.image as mpimg\n",
    "import numpy as np\n",
    "import cv2\n",
    "%matplotlib inline"
   ]
  },
  {
   "cell_type": "markdown",
   "metadata": {
    "deletable": true,
    "editable": true
   },
   "source": [
    "## Read in an Image"
   ]
  },
  {
   "cell_type": "markdown",
   "metadata": {
    "deletable": true,
    "editable": true
   },
   "source": [
    "## Ideas for Lane Detection Pipeline"
   ]
  },
  {
   "cell_type": "markdown",
   "metadata": {
    "deletable": true,
    "editable": true
   },
   "source": [
    "**Some OpenCV functions (beyond those introduced in the lesson) that might be useful for this project are:**\n",
    "\n",
    "`cv2.inRange()` for color selection  \n",
    "`cv2.fillPoly()` for regions selection  \n",
    "`cv2.line()` to draw lines on an image given endpoints  \n",
    "`cv2.addWeighted()` to coadd / overlay two images\n",
    "`cv2.cvtColor()` to grayscale or change color\n",
    "`cv2.imwrite()` to output images to file  \n",
    "`cv2.bitwise_and()` to apply a mask to an image\n",
    "\n",
    "**Check out the OpenCV documentation to learn about these and discover even more awesome functionality!**"
   ]
  },
  {
   "cell_type": "markdown",
   "metadata": {
    "deletable": true,
    "editable": true
   },
   "source": [
    "## Helper Functions"
   ]
  },
  {
   "cell_type": "markdown",
   "metadata": {
    "deletable": true,
    "editable": true
   },
   "source": [
    "Below are some helper functions to help get you started. They should look familiar from the lesson!"
   ]
  },
  {
   "cell_type": "code",
   "execution_count": 8,
   "metadata": {
    "collapsed": true,
    "deletable": true,
    "editable": true
   },
   "outputs": [],
   "source": [
    "import math\n",
    "\n",
    "def grayscale(img):\n",
    "    \"\"\"Applies the Grayscale transform\n",
    "    This will return an image with only one color channel\n",
    "    but NOTE: to see the returned image as grayscale\n",
    "    (assuming your grayscaled image is called 'gray')\n",
    "    you should call plt.imshow(gray, cmap='gray')\"\"\"\n",
    "    return cv2.cvtColor(img, cv2.COLOR_RGB2GRAY)\n",
    "    # Or use BGR2GRAY if you read an image with cv2.imread()\n",
    "    # return cv2.cvtColor(img, cv2.COLOR_BGR2GRAY)\n",
    "    \n",
    "def canny(img, low_threshold, high_threshold):\n",
    "    \"\"\"Applies the Canny transform\"\"\"\n",
    "    return cv2.Canny(img, low_threshold, high_threshold)\n",
    "\n",
    "def gaussian_blur(img, kernel_size):\n",
    "    \"\"\"Applies a Gaussian Noise kernel\"\"\"\n",
    "    return cv2.GaussianBlur(img, (kernel_size, kernel_size), 0)\n",
    "\n",
    "def region_of_interest(img, vertices):\n",
    "    \"\"\"\n",
    "    Applies an image mask.\n",
    "    \n",
    "    Only keeps the region of the image defined by the polygon\n",
    "    formed from `vertices`. The rest of the image is set to black.\n",
    "    \"\"\"\n",
    "    #defining a blank mask to start with\n",
    "    mask = np.zeros_like(img)   \n",
    "    \n",
    "    #defining a 3 channel or 1 channel color to fill the mask with depending on the input image\n",
    "    if len(img.shape) > 2:\n",
    "        channel_count = img.shape[2]  # i.e. 3 or 4 depending on your image\n",
    "        ignore_mask_color = (255,) * channel_count\n",
    "    else:\n",
    "        ignore_mask_color = 255\n",
    "        \n",
    "    #filling pixels inside the polygon defined by \"vertices\" with the fill color    \n",
    "    cv2.fillPoly(mask, vertices, ignore_mask_color)\n",
    "    \n",
    "    #returning the image only where mask pixels are nonzero\n",
    "    masked_image = cv2.bitwise_and(img, mask)\n",
    "    return masked_image\n",
    "\n",
    "\n"
   ]
  },
  {
   "cell_type": "markdown",
   "metadata": {
    "deletable": true,
    "editable": true
   },
   "source": [
    "## Test Images\n",
    "\n",
    "Build your pipeline to work on the images in the directory \"test_images\"  \n",
    "**You should make sure your pipeline works well on these images before you try the videos.**"
   ]
  },
  {
   "cell_type": "markdown",
   "metadata": {
    "deletable": true,
    "editable": true
   },
   "source": [
    "## Build a Lane Finding Pipeline\n",
    "\n"
   ]
  },
  {
   "cell_type": "markdown",
   "metadata": {
    "deletable": true,
    "editable": true
   },
   "source": [
    "Build the pipeline and run your solution on all test_images. Make copies into the test_images directory, and you can use the images in your writeup report.\n",
    "\n",
    "Try tuning the various parameters, especially the low and high Canny thresholds as well as the Hough lines parameters."
   ]
  },
  {
   "cell_type": "code",
   "execution_count": null,
   "metadata": {
    "collapsed": true,
    "deletable": true,
    "editable": true
   },
   "outputs": [],
   "source": []
  },
  {
   "cell_type": "markdown",
   "metadata": {
    "deletable": true,
    "editable": true
   },
   "source": [
    "## Test on Videos\n",
    "\n",
    "You know what's cooler than drawing lanes over images? Drawing lanes over video!\n",
    "\n",
    "We can test our solution on two provided videos:\n",
    "\n",
    "`solidWhiteRight.mp4`\n",
    "\n",
    "`solidYellowLeft.mp4`\n",
    "\n",
    "**Note: if you get an `import error` when you run the next cell, try changing your kernel (select the Kernel menu above --> Change Kernel).  Still have problems?  Try relaunching Jupyter Notebook from the terminal prompt. Also, check out [this forum post](https://carnd-forums.udacity.com/questions/22677062/answers/22677109) for more troubleshooting tips.**\n",
    "\n",
    "**If you get an error that looks like this:**\n",
    "```\n",
    "NeedDownloadError: Need ffmpeg exe. \n",
    "You can download it by calling: \n",
    "imageio.plugins.ffmpeg.download()\n",
    "```\n",
    "**Follow the instructions in the error message and check out [this forum post](https://carnd-forums.udacity.com/display/CAR/questions/26218840/import-videofileclip-error) for more troubleshooting tips across operating systems.**"
   ]
  },
  {
   "cell_type": "code",
   "execution_count": 9,
   "metadata": {
    "collapsed": true,
    "deletable": true,
    "editable": true
   },
   "outputs": [],
   "source": [
    "# Import everything needed to edit/save/watch video clips\n",
    "from moviepy.editor import VideoFileClip\n",
    "from IPython.display import HTML\n",
    "import os"
   ]
  },
  {
   "cell_type": "code",
   "execution_count": 10,
   "metadata": {
    "collapsed": true,
    "deletable": true,
    "editable": true
   },
   "outputs": [],
   "source": [
    "def process_image(inputimage):\n",
    "    # NOTE: The output you return should be a color image (3 channel) for processing video below\n",
    "    # TODO: put your pipeline here,\n",
    "    # you should return the final output (image where lines are drawn on lanes)\n",
    "    \n",
    "    my_gray_image = grayscale(inputimage)\n",
    "    kernel_size = 5\n",
    "    blur_gray = gaussian_blur(my_gray_image, kernel_size)\n",
    "    low_threshold = 100\n",
    "    high_threshold = 240\n",
    "    edges = canny(blur_gray, low_threshold, high_threshold)\n",
    "    imshape = inputimage.shape\n",
    "    vertices = np.array([[(140,imshape[0]),(450, 318), (500, 318), (imshape[1]-50,imshape[0])]], dtype=np.int32)\n",
    "    regi = region_of_interest(edges,vertices)\n",
    "    \n",
    "    rho = 1 # distance resolution in pixels of the Hough grid\n",
    "    theta = np.pi/180 # angular resolution in radians of the Hough grid\n",
    "    threshold = 3     # minimum number of votes (intersections in Hough grid cell)\n",
    "    min_line_length = 10 #minimum number of pixels making up a line\n",
    "    max_line_gap = 7    # maximum gap in pixels between connectable line segments\n",
    "    line_image = np.copy(inputimage)*0 # creating a blank to draw lines on\n",
    "    #line_image = hough_lines(regi, rho, theta, threshold, min_line_length, max_line_gap)\n",
    "    lines = cv2.HoughLinesP(regi, rho, theta, threshold, np.array([]),\n",
    "                                min_line_length, max_line_gap)\n",
    "    color_edges = np.dstack((edges, edges, edges)) \n",
    "    #for line in lines:\n",
    "    #    for x1,y1,x2,y2 in line:\n",
    "    #        cv2.line(line_image,(x1,y1),(x2,y2),(255,0,0),10)\n",
    "    # Draw the lines on the edge image\n",
    "    #lines_edges = cv2.addWeighted(image, 0.8, line_image, 1, 0) \n",
    "    #plt.imshow(lines_edges)\n",
    "    left = []\n",
    "    right = []\n",
    "    \n",
    "    for line in lines:\n",
    "        for x1,y1,x2,y2 in line:\n",
    "            if(x2-x1 == 0):\n",
    "                continue \n",
    "            slope = float((y2 -y1)/(x2-x1))    \n",
    "            if (slope <= 0 and (x1 > 140 and x1 < 450)):\n",
    "                left.append([x1,y1])\n",
    "                left.append([x2,y2])\n",
    "                \n",
    "            elif(slope >= 0 and (x1 > 500 and x1 < imshape[1]-50)):\n",
    "                right.append([x1,y1])\n",
    "                right.append([x2,y2])\n",
    "    \n",
    "    npleft = np.asarray(left)\n",
    "    npright = np.asarray(right)\n",
    "    \n",
    "    leftparameters = np.polyfit(npleft[:,0], npleft[:,1],1)\n",
    "    rightparameters = np.polyfit(npright[:,0], npright[:,1],1)\n",
    "    \n",
    "    leftfit = np.poly1d(leftparameters)\n",
    "    rightfit = np.poly1d(rightparameters)\n",
    "    \n",
    "    #cv2.line(line_image, ((min(npleft[:,0])),leftfit(min(npleft[:,0]))), ((max(npleft[:,0])),leftfit(max(npleft[:,0]))),(255,0,0),10)\n",
    "    #cv2.line(line_image, ((min(npright[:,0])),rightfit(min(npright[:,0]))), ((max(npright[:,0])),righttfit(max(npright[:,0]))),(255,0,0),10)\n",
    "    #cv2.line(line_image,(140,imshape[0]),(left[0][0],left[0][1]),(255,0,0),10)\n",
    "    #cv2.line(line_image,((imshape[1]-50,imshape[0])),(right[0][0],right[0][1]),(255,0,0),10)\n",
    "    #for i in range(len(left)-1):\n",
    "        #cv2.line(line_image,(left[i][0],left[i][1]),(left[i][2],left[i][3]),(255,0,0),10)\n",
    "        #cv2.line(line_image,(left[i][2],left[i][3]),(left[i+1][2],left[i+1][3]),(255,0,0),10)\n",
    "    #for i in range(len(right)-1):\n",
    "        #cv2.line(line_image,(right[i][0],right[i][1]),(right[i][2],right[i][3]),(255,0,0),10)\n",
    "        #cv2.line(line_image,(right[i][2],right[i][3]),(right[i+1][2],right[i+1][3]),(255,0,0),10)\n",
    "        \n",
    "    #uncomment below \n",
    "    #cv2.line(line_image,(140,int(leftfit(140))),(max(npleft[:,0]),int(leftfit(max(npleft[:,0])))),(255,0,0),10)\n",
    "    #cv2.line(line_image,(min(npright[:,0]),int(rightfit(min(npright[:,0])))),(910,int(rightfit(910))),(255,0,0),10)\n",
    "    \n",
    "    #[(140,imshape[0]),(450, 318), (500, 318), (imshape[1]-50,imshape[0])]]\n",
    "    cv2.line(line_image,(140,int(leftfit(140))),(450,int(leftfit(450))),(255,0,0),10)\n",
    "    lines_edges = cv2.addWeighted(inputimage, 0.8, line_image, 1, 0) \n",
    "    \n",
    "    cv2.line(line_image,(500,int(rightfit(500))),(910,int(rightfit(910))),(255,0,0),10)\n",
    "    lines_edges = cv2.addWeighted(inputimage, 0.8, line_image, 1, 0) \n",
    "    \n",
    "    #plt.imshow(lines_edges)\n",
    "    result =lines_edges\n",
    "    return result"
   ]
  },
  {
   "cell_type": "markdown",
   "metadata": {
    "deletable": true,
    "editable": true
   },
   "source": [
    "Let's try the one with the solid white lane on the right first ..."
   ]
  },
  {
   "cell_type": "code",
   "execution_count": 11,
   "metadata": {
    "collapsed": false
   },
   "outputs": [],
   "source": [
    "all_images = os.listdir('test_images')"
   ]
  },
  {
   "cell_type": "code",
   "execution_count": 12,
   "metadata": {
    "collapsed": false
   },
   "outputs": [],
   "source": [
    "for my_image in all_images:\n",
    "    image = mpimg.imread('test_images/' + my_image)\n",
    "    color_image = np.copy(image)\n",
    "    final_image = process_image(color_image)\n",
    "    output_filename = os.path.splitext(os.path.basename(my_image))[0]\n",
    "    mpimg.imsave('output_images/'+output_filename+'.png',final_image)"
   ]
  },
  {
   "cell_type": "markdown",
   "metadata": {},
   "source": [
    "    image = mpimg.imread('test_images/whiteCarLaneSwitch.jpg')\n",
    "    inputimage = np.copy(image)\n",
    "    my_gray_image = grayscale(inputimage)\n",
    "    \n",
    "    kernel_size = 5\n",
    "    blur_gray = gaussian_blur(my_gray_image, kernel_size)\n",
    "    low_threshold = 100\n",
    "    high_threshold = 240\n",
    "    \n",
    "    edges = canny(blur_gray, low_threshold, high_threshold)\n",
    "    \n",
    "    imshape = inputimage.shape\n",
    "    vertices = np.array([[(140,imshape[0]),(450, 318), (500, 318), (imshape[1]-50,imshape[0])]], dtype=np.int32)\n",
    "    regi = region_of_interest(edges,vertices)\n",
    "    \n",
    "    rho = 1 # distance resolution in pixels of the Hough grid\n",
    "    theta = np.pi/180 # angular resolution in radians of the Hough grid\n",
    "    threshold = 3     # minimum number of votes (intersections in Hough grid cell)\n",
    "    min_line_length = 10 #minimum number of pixels making up a line\n",
    "    max_line_gap = 7    # maximum gap in pixels between connectable line segments\n",
    "    line_image = np.copy(inputimage)*0 # creating a blank to draw lines on\n",
    "    #line_image = hough_lines(regi, rho, theta, threshold, min_line_length, max_line_gap)\n",
    "    lines = cv2.HoughLinesP(regi, rho, theta, threshold, np.array([]),\n",
    "                                min_line_length, max_line_gap)\n",
    "    #plt.imshow(lines)\n",
    "    color_edges = np.dstack((edges, edges, edges)) \n",
    "    for line in lines:\n",
    "        for x1,y1,x2,y2 in line:\n",
    "            cv2.line(line_image,(x1,y1),(x2,y2),(255,0,0),10)\n",
    "    plt.imshow(line_image)\n",
    "    # Draw the lines on the edge image\n",
    "    lines_edges = cv2.addWeighted(image, 0.8, line_image, 1, 0) \n",
    "    \n",
    "    left = []\n",
    "    right = []\n",
    "    \n",
    "    for line in lines:\n",
    "        for x1,y1,x2,y2 in line:\n",
    "            if(x2-x1 == 0):\n",
    "                continue \n",
    "            slope = float((y2 -y1)/(x2-x1))    \n",
    "            if (slope <= 0 and (x1 > 140 and x1 < 450)):\n",
    "                left.append([x1,y1])\n",
    "                left.append([x2,y2])\n",
    "                \n",
    "            elif(slope >= 0 and (x1 > 500 and x1 < imshape[1]-50)):\n",
    "                right.append([x1,y1])\n",
    "                right.append([x2,y2])\n",
    "    \n",
    "    npleft = np.asarray(left)\n",
    "    npright = np.asarray(right)\n",
    "    \n",
    "    leftparameters = np.polyfit(npleft[:,0], npleft[:,1],1)\n",
    "    rightparameters = np.polyfit(npright[:,0], npright[:,1],1)\n",
    "    \n",
    "    leftfit = np.poly1d(leftparameters)\n",
    "    rightfit = np.poly1d(rightparameters)\n",
    "    \n",
    "    #cv2.line(line_image, ((min(npleft[:,0])),leftfit(min(npleft[:,0]))), ((max(npleft[:,0])),leftfit(max(npleft[:,0]))),(255,0,0),10)\n",
    "    #cv2.line(line_image, ((min(npright[:,0])),rightfit(min(npright[:,0]))), ((max(npright[:,0])),righttfit(max(npright[:,0]))),(255,0,0),10)\n",
    "    #cv2.line(line_image,(140,imshape[0]),(left[0][0],left[0][1]),(255,0,0),10)\n",
    "    #cv2.line(line_image,((imshape[1]-50,imshape[0])),(right[0][0],right[0][1]),(255,0,0),10)\n",
    "    #for i in range(len(left)-1):\n",
    "        #cv2.line(line_image,(left[i][0],left[i][1]),(left[i][2],left[i][3]),(255,0,0),10)\n",
    "        #cv2.line(line_image,(left[i][2],left[i][3]),(left[i+1][2],left[i+1][3]),(255,0,0),10)\n",
    "    #for i in range(len(right)-1):\n",
    "        #cv2.line(line_image,(right[i][0],right[i][1]),(right[i][2],right[i][3]),(255,0,0),10)\n",
    "        #cv2.line(line_image,(right[i][2],right[i][3]),(right[i+1][2],right[i+1][3]),(255,0,0),10)\n",
    "        \n",
    "    #uncomment below \n",
    "    #cv2.line(line_image,(140,int(leftfit(140))),(max(npleft[:,0]),int(leftfit(max(npleft[:,0])))),(255,0,0),10)\n",
    "    #cv2.line(line_image,(min(npright[:,0]),int(rightfit(min(npright[:,0])))),(910,int(rightfit(910))),(255,0,0),10)\n",
    "    \n",
    "    #[(140,imshape[0]),(450, 318), (500, 318), (imshape[1]-50,imshape[0])]]\n",
    "    cv2.line(line_image,(140,int(leftfit(140))),(450,int(leftfit(450))),(255,0,0),10)\n",
    "    lines_edges = cv2.addWeighted(inputimage, 0.8, line_image, 1, 0) \n",
    "    \n",
    "    cv2.line(line_image,(500,int(rightfit(500))),(910,int(rightfit(910))),(255,0,0),10)\n",
    "    lines_edges = cv2.addWeighted(inputimage, 0.8, line_image, 1, 0) \n",
    "    plt.imshow(lines_edges)\n",
    "    #plt.imshow(lines_edges)\n",
    "    result =lines_edges"
   ]
  },
  {
   "cell_type": "code",
   "execution_count": 13,
   "metadata": {
    "collapsed": false,
    "deletable": true,
    "editable": true
   },
   "outputs": [
    {
     "name": "stdout",
     "output_type": "stream",
     "text": [
      "[MoviePy] >>>> Building video white.mp4\n",
      "[MoviePy] Writing video white.mp4\n"
     ]
    },
    {
     "name": "stderr",
     "output_type": "stream",
     "text": [
      "100%|█████████▉| 221/222 [00:08<00:00, 25.05it/s]\n"
     ]
    },
    {
     "name": "stdout",
     "output_type": "stream",
     "text": [
      "[MoviePy] Done.\n",
      "[MoviePy] >>>> Video ready: white.mp4 \n",
      "\n",
      "CPU times: user 8.6 s, sys: 248 ms, total: 8.85 s\n",
      "Wall time: 10 s\n"
     ]
    }
   ],
   "source": [
    "white_output = 'white.mp4'\n",
    "clip1 = VideoFileClip(\"solidWhiteRight.mp4\")\n",
    "white_clip = clip1.fl_image(process_image) #NOTE: this function expects color images!!\n",
    "%time white_clip.write_videofile(white_output, audio=False)"
   ]
  },
  {
   "cell_type": "markdown",
   "metadata": {
    "deletable": true,
    "editable": true
   },
   "source": [
    "Play the video inline, or if you prefer find the video in your filesystem (should be in the same directory) and play it in your video player of choice."
   ]
  },
  {
   "cell_type": "code",
   "execution_count": 14,
   "metadata": {
    "collapsed": false,
    "deletable": true,
    "editable": true,
    "scrolled": true
   },
   "outputs": [
    {
     "data": {
      "text/html": [
       "\n",
       "<video width=\"960\" height=\"540\" controls>\n",
       "  <source src=\"white.mp4\">\n",
       "</video>\n"
      ],
      "text/plain": [
       "<IPython.core.display.HTML object>"
      ]
     },
     "execution_count": 14,
     "metadata": {},
     "output_type": "execute_result"
    }
   ],
   "source": [
    "HTML(\"\"\"\n",
    "<video width=\"960\" height=\"540\" controls>\n",
    "  <source src=\"{0}\">\n",
    "</video>\n",
    "\"\"\".format(white_output))"
   ]
  },
  {
   "cell_type": "markdown",
   "metadata": {
    "deletable": true,
    "editable": true
   },
   "source": [
    "## Improve the draw_lines() function\n",
    "\n",
    "**At this point, if you were successful with making the pipeline and tuning parameters, you probably have the Hough line segments drawn onto the road, but what about identifying the full extent of the lane and marking it clearly as in the example video (P1_example.mp4)?  Think about defining a line to run the full length of the visible lane based on the line segments you identified with the Hough Transform. As mentioned previously, try to average and/or extrapolate the line segments you've detected to map out the full extent of the lane lines. You can see an example of the result you're going for in the video \"P1_example.mp4\".**\n",
    "\n",
    "**Go back and modify your draw_lines function accordingly and try re-running your pipeline. The new output should draw a single, solid line over the left lane line and a single, solid line over the right lane line. The lines should start from the bottom of the image and extend out to the top of the region of interest.**"
   ]
  },
  {
   "cell_type": "markdown",
   "metadata": {
    "deletable": true,
    "editable": true
   },
   "source": [
    "Now for the one with the solid yellow lane on the left. This one's more tricky!"
   ]
  },
  {
   "cell_type": "code",
   "execution_count": 15,
   "metadata": {
    "collapsed": false,
    "deletable": true,
    "editable": true
   },
   "outputs": [
    {
     "name": "stdout",
     "output_type": "stream",
     "text": [
      "[MoviePy] >>>> Building video yellow.mp4\n",
      "[MoviePy] Writing video yellow.mp4\n"
     ]
    },
    {
     "name": "stderr",
     "output_type": "stream",
     "text": [
      "100%|█████████▉| 681/682 [00:32<00:00, 20.86it/s]\n"
     ]
    },
    {
     "name": "stdout",
     "output_type": "stream",
     "text": [
      "[MoviePy] Done.\n",
      "[MoviePy] >>>> Video ready: yellow.mp4 \n",
      "\n",
      "CPU times: user 27.4 s, sys: 740 ms, total: 28.2 s\n",
      "Wall time: 33.9 s\n"
     ]
    }
   ],
   "source": [
    "yellow_output = 'yellow.mp4'\n",
    "clip2 = VideoFileClip('solidYellowLeft.mp4')\n",
    "yellow_clip = clip2.fl_image(process_image)\n",
    "%time yellow_clip.write_videofile(yellow_output, audio=False)"
   ]
  },
  {
   "cell_type": "code",
   "execution_count": 16,
   "metadata": {
    "collapsed": false,
    "deletable": true,
    "editable": true
   },
   "outputs": [
    {
     "data": {
      "text/html": [
       "\n",
       "<video width=\"960\" height=\"540\" controls>\n",
       "  <source src=\"yellow.mp4\">\n",
       "</video>\n"
      ],
      "text/plain": [
       "<IPython.core.display.HTML object>"
      ]
     },
     "execution_count": 16,
     "metadata": {},
     "output_type": "execute_result"
    }
   ],
   "source": [
    "HTML(\"\"\"\n",
    "<video width=\"960\" height=\"540\" controls>\n",
    "  <source src=\"{0}\">\n",
    "</video>\n",
    "\"\"\".format(yellow_output))"
   ]
  },
  {
   "cell_type": "markdown",
   "metadata": {
    "deletable": true,
    "editable": true
   },
   "source": [
    "## Writeup and Submission\n",
    "\n",
    "If you're satisfied with your video outputs, it's time to make the report writeup in a pdf or markdown file. Once you have this Ipython notebook ready along with the writeup, it's time to submit for review! Here is a [link](https://github.com/udacity/CarND-LaneLines-P1/blob/master/writeup_template.md) to the writeup template file.\n"
   ]
  },
  {
   "cell_type": "markdown",
   "metadata": {
    "collapsed": true,
    "deletable": true,
    "editable": true
   },
   "source": [
    "## Optional Challenge\n",
    "\n",
    "Try your lane finding pipeline on the video below.  Does it still work?  Can you figure out a way to make it more robust?  If you're up for the challenge, modify your pipeline so it works with this video and submit it along with the rest of your project!"
   ]
  },
  {
   "cell_type": "code",
   "execution_count": 17,
   "metadata": {
    "collapsed": false,
    "deletable": true,
    "editable": true
   },
   "outputs": [
    {
     "name": "stdout",
     "output_type": "stream",
     "text": [
      "[MoviePy] >>>> Building video extra.mp4\n",
      "[MoviePy] Writing video extra.mp4\n"
     ]
    },
    {
     "name": "stderr",
     "output_type": "stream",
     "text": [
      "100%|██████████| 251/251 [00:22<00:00, 11.10it/s]\n"
     ]
    },
    {
     "name": "stdout",
     "output_type": "stream",
     "text": [
      "[MoviePy] Done.\n",
      "[MoviePy] >>>> Video ready: extra.mp4 \n",
      "\n",
      "CPU times: user 15.1 s, sys: 492 ms, total: 15.6 s\n",
      "Wall time: 24.8 s\n"
     ]
    }
   ],
   "source": [
    "challenge_output = 'extra.mp4'\n",
    "clip2 = VideoFileClip('challenge.mp4')\n",
    "challenge_clip = clip2.fl_image(process_image)\n",
    "%time challenge_clip.write_videofile(challenge_output, audio=False)"
   ]
  },
  {
   "cell_type": "code",
   "execution_count": 18,
   "metadata": {
    "collapsed": false,
    "deletable": true,
    "editable": true,
    "scrolled": true
   },
   "outputs": [
    {
     "data": {
      "text/html": [
       "\n",
       "<video width=\"960\" height=\"540\" controls>\n",
       "  <source src=\"extra.mp4\">\n",
       "</video>\n"
      ],
      "text/plain": [
       "<IPython.core.display.HTML object>"
      ]
     },
     "execution_count": 18,
     "metadata": {},
     "output_type": "execute_result"
    }
   ],
   "source": [
    "HTML(\"\"\"\n",
    "<video width=\"960\" height=\"540\" controls>\n",
    "  <source src=\"{0}\">\n",
    "</video>\n",
    "\"\"\".format(challenge_output))"
   ]
  }
 ],
 "metadata": {
  "anaconda-cloud": {},
  "kernelspec": {
   "display_name": "Python 3",
   "language": "python",
   "name": "python3"
  },
  "language_info": {
   "codemirror_mode": {
    "name": "ipython",
    "version": 3
   },
   "file_extension": ".py",
   "mimetype": "text/x-python",
   "name": "python",
   "nbconvert_exporter": "python",
   "pygments_lexer": "ipython3",
   "version": "3.5.2"
  },
  "widgets": {
   "state": {},
   "version": "1.1.2"
  }
 },
 "nbformat": 4,
 "nbformat_minor": 0
}
